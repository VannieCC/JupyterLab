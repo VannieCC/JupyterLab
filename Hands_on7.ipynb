{
 "cells": [
  {
   "cell_type": "markdown",
   "id": "868b08bc-86a8-48dd-a7ad-2b21b74eb064",
   "metadata": {},
   "source": [
    "## E1. Exercise: Let's work on a different set of features \"Age\" and repeat\n",
    "\n",
    "**Create a new Jupyter Notbook and do the following**\n",
    "\n",
    "Following the above hands-on, initialize and train Logistic Regression and MLP classifiers for predicting diabetes using the following columns:\n",
    "\n",
    "**Feature Columns (Input):**\n",
    "- Glucose: Plasma glucose concentration a 2 hours in an oral glucose tolerance test\n",
    "- BloodPressure: Diastolic blood pressure (mm Hg)\n",
    "- Insulin: 2-Hour serum insulin (mu U/ml)\n",
    "- BMI: Body mass index (weight in kg/(height in m)^2)\n",
    "- Age: Age (years)\n",
    "\n",
    "**Label (Output):**\n",
    "- Outcome: Class variable (0 or 1)\n",
    "\n",
    "What accuracy figures are you getting for the two classifiers? Are they very different from the accuracy figures we for in Section 3 above? Write down in a markdown block."
   ]
  },
  {
   "cell_type": "code",
   "execution_count": 12,
   "id": "e1d13d55-05ce-4f9f-aa64-7428460d7abc",
   "metadata": {},
   "outputs": [
    {
     "data": {
      "text/html": [
       "<div>\n",
       "<style scoped>\n",
       "    .dataframe tbody tr th:only-of-type {\n",
       "        vertical-align: middle;\n",
       "    }\n",
       "\n",
       "    .dataframe tbody tr th {\n",
       "        vertical-align: top;\n",
       "    }\n",
       "\n",
       "    .dataframe thead th {\n",
       "        text-align: right;\n",
       "    }\n",
       "</style>\n",
       "<table border=\"1\" class=\"dataframe\">\n",
       "  <thead>\n",
       "    <tr style=\"text-align: right;\">\n",
       "      <th></th>\n",
       "      <th>Unnamed: 0</th>\n",
       "      <th>Pregnancies</th>\n",
       "      <th>Glucose</th>\n",
       "      <th>BloodPressure</th>\n",
       "      <th>SkinThickness</th>\n",
       "      <th>Insulin</th>\n",
       "      <th>BMI</th>\n",
       "      <th>DiabetesPedigreeFunction</th>\n",
       "      <th>Age</th>\n",
       "      <th>Outcome</th>\n",
       "    </tr>\n",
       "  </thead>\n",
       "  <tbody>\n",
       "    <tr>\n",
       "      <th>0</th>\n",
       "      <td>466</td>\n",
       "      <td>0</td>\n",
       "      <td>74</td>\n",
       "      <td>52</td>\n",
       "      <td>10</td>\n",
       "      <td>36</td>\n",
       "      <td>27.8</td>\n",
       "      <td>0.269</td>\n",
       "      <td>22</td>\n",
       "      <td>0</td>\n",
       "    </tr>\n",
       "    <tr>\n",
       "      <th>1</th>\n",
       "      <td>719</td>\n",
       "      <td>5</td>\n",
       "      <td>97</td>\n",
       "      <td>76</td>\n",
       "      <td>27</td>\n",
       "      <td>0</td>\n",
       "      <td>35.6</td>\n",
       "      <td>0.378</td>\n",
       "      <td>52</td>\n",
       "      <td>1</td>\n",
       "    </tr>\n",
       "    <tr>\n",
       "      <th>2</th>\n",
       "      <td>319</td>\n",
       "      <td>6</td>\n",
       "      <td>194</td>\n",
       "      <td>78</td>\n",
       "      <td>0</td>\n",
       "      <td>0</td>\n",
       "      <td>23.5</td>\n",
       "      <td>0.129</td>\n",
       "      <td>59</td>\n",
       "      <td>1</td>\n",
       "    </tr>\n",
       "    <tr>\n",
       "      <th>3</th>\n",
       "      <td>402</td>\n",
       "      <td>5</td>\n",
       "      <td>136</td>\n",
       "      <td>84</td>\n",
       "      <td>41</td>\n",
       "      <td>88</td>\n",
       "      <td>35.0</td>\n",
       "      <td>0.286</td>\n",
       "      <td>35</td>\n",
       "      <td>1</td>\n",
       "    </tr>\n",
       "    <tr>\n",
       "      <th>4</th>\n",
       "      <td>752</td>\n",
       "      <td>3</td>\n",
       "      <td>108</td>\n",
       "      <td>62</td>\n",
       "      <td>24</td>\n",
       "      <td>0</td>\n",
       "      <td>26.0</td>\n",
       "      <td>0.223</td>\n",
       "      <td>25</td>\n",
       "      <td>0</td>\n",
       "    </tr>\n",
       "  </tbody>\n",
       "</table>\n",
       "</div>"
      ],
      "text/plain": [
       "   Unnamed: 0  Pregnancies  Glucose  BloodPressure  SkinThickness  Insulin  \\\n",
       "0         466            0       74             52             10       36   \n",
       "1         719            5       97             76             27        0   \n",
       "2         319            6      194             78              0        0   \n",
       "3         402            5      136             84             41       88   \n",
       "4         752            3      108             62             24        0   \n",
       "\n",
       "    BMI  DiabetesPedigreeFunction  Age  Outcome  \n",
       "0  27.8                     0.269   22        0  \n",
       "1  35.6                     0.378   52        1  \n",
       "2  23.5                     0.129   59        1  \n",
       "3  35.0                     0.286   35        1  \n",
       "4  26.0                     0.223   25        0  "
      ]
     },
     "execution_count": 12,
     "metadata": {},
     "output_type": "execute_result"
    }
   ],
   "source": [
    "import pandas as pd\n",
    "\n",
    "train_df = pd.read_csv(\"train.csv\")\n",
    "train_df.head()"
   ]
  },
  {
   "cell_type": "code",
   "execution_count": 21,
   "id": "eeb770b6-6ac8-4bcf-baa2-42a1e284253a",
   "metadata": {},
   "outputs": [
    {
     "data": {
      "text/plain": [
       "0    0\n",
       "1    1\n",
       "2    1\n",
       "3    1\n",
       "4    0\n",
       "Name: Outcome, dtype: int64"
      ]
     },
     "execution_count": 21,
     "metadata": {},
     "output_type": "execute_result"
    }
   ],
   "source": [
    "train_features = train_df[[\"Glucose\",\"BloodPressure\",\"Insulin\",\"BMI\",\"Age\"]]\n",
    "\n",
    "train_labels = train_df[\"Outcome\"]\n",
    "\n",
    "train_features.head()\n",
    "train_labels.head()"
   ]
  },
  {
   "cell_type": "code",
   "execution_count": 25,
   "id": "2d253621-94bf-4ca0-b635-ede8787779ec",
   "metadata": {},
   "outputs": [
    {
     "data": {
      "text/plain": [
       "MLPClassifier(alpha=1e-05, hidden_layer_sizes=(8, 2), max_iter=10000,\n",
       "              random_state=11, solver='lbfgs')"
      ]
     },
     "execution_count": 25,
     "metadata": {},
     "output_type": "execute_result"
    }
   ],
   "source": [
    "from sklearn.linear_model import LogisticRegression\n",
    "from sklearn.neural_network import MLPClassifier\n",
    "\n",
    "\n",
    "lr_age_classifier = LogisticRegression(solver='lbfgs',max_iter=10000)\n",
    "mlp_age_classifier = MLPClassifier(solver='lbfgs', alpha=1e-5,\n",
    "                               hidden_layer_sizes=(8, 2), random_state=11,max_iter=10000)\n",
    "\n",
    "\n",
    "# train our models\n",
    "lr_age_classifier.fit(train_features.to_numpy(),train_labels.to_numpy())\n",
    "mlp_age_classifier.fit(train_features.to_numpy(),train_labels.to_numpy())"
   ]
  },
  {
   "cell_type": "code",
   "execution_count": 29,
   "id": "3fc46784-e9e7-4fdf-a131-128a92144039",
   "metadata": {},
   "outputs": [
    {
     "name": "stdout",
     "output_type": "stream",
     "text": [
      "Accuracy of the Logistic Classifier = 0.7402597402597403\n",
      "Accuracy of the MLP Classifier = 0.6298701298701299\n"
     ]
    }
   ],
   "source": [
    "from sklearn.metrics import accuracy_score\n",
    "\n",
    "#load test data\n",
    "test_df = pd.read_csv(\"test.csv\")\n",
    "\n",
    "# Extract the input features\n",
    "test_inputs = test_df[[\"Glucose\",\"BloodPressure\",\"Insulin\",\"BMI\",\"Age\"]]\n",
    "\n",
    "y_actual = test_df[\"Outcome\"]\n",
    "\n",
    "# predict using logistic regression model\n",
    "y_predicted_lr = lr_classifier.predict(test_inputs.to_numpy())\n",
    "lr_accuracy_score = accuracy_score(y_predicted_lr,y_actual)\n",
    "\n",
    "# predict using logistic regression model\n",
    "y_predicted_mlp = mlp_classifier.predict(test_inputs.to_numpy())\n",
    "mlp_accuracy_score = accuracy_score(y_predicted_mlp,y_actual)\n",
    "\n",
    "print (f\"Accuracy of the Logistic Classifier = {lr_accuracy_score}\")\n",
    "print (f\"Accuracy of the MLP Classifier = {mlp_accuracy_score}\")"
   ]
  },
  {
   "cell_type": "code",
   "execution_count": 34,
   "id": "3b981af6-ac5d-4ad0-97f4-145770b7ea6f",
   "metadata": {},
   "outputs": [],
   "source": [
    "# Storing\n",
    "import pickle\n",
    "\n",
    "file_to_write = open(\"diabetes_best_model.saved\",\"wb\")\n",
    "pickle.dump(lr_classifier,file_to_write)\n",
    "file_to_write.close()"
   ]
  },
  {
   "cell_type": "code",
   "execution_count": 35,
   "id": "ce21b7e4-bea8-44c2-88dc-d9371333f128",
   "metadata": {},
   "outputs": [
    {
     "name": "stdout",
     "output_type": "stream",
     "text": [
      "The person is likely to have diabetes in the near future\n"
     ]
    }
   ],
   "source": [
    "import pickle\n",
    "import numpy\n",
    "\n",
    "model_file = open(\"diabetes_best_model.saved\",\"rb\")\n",
    "model = pickle.load(model_file)\n",
    "model_file.close()\n",
    "\n",
    "# Let's prepare a sample input\n",
    "pregnancies = 1\n",
    "glucose = 200\n",
    "bp = 66\n",
    "skin_thickness = 20\n",
    "insulin = 95\n",
    "bmi = 32.9\n",
    "diabetes_pedigree = 0.6\n",
    "age = 28\n",
    "\n",
    "input_data =numpy.array([[glucose,bp,insulin,bmi,age]]) \n",
    "\n",
    "y_predicted_lr = lr_classifier.predict(input_data)\n",
    "\n",
    "if y_predicted_lr[0]==1:\n",
    "    print (\"The person is likely to have diabetes in the near future\")\n",
    "if y_predicted_lr[0]==0:\n",
    "    print (\"The person will not have diabetes\")"
   ]
  },
  {
   "cell_type": "markdown",
   "id": "fd8de829-a61b-4713-875f-7ea7b3c87ce0",
   "metadata": {},
   "source": [
    "The accuracy I got from the classifiers are 0.7402597402597403 (logistic) and 0.6298701298701299 (MLP). They are the different from the accruacy we got from Section 3; however, they are very close. "
   ]
  }
 ],
 "metadata": {
  "kernelspec": {
   "display_name": "Python 3 (ipykernel)",
   "language": "python",
   "name": "python3"
  },
  "language_info": {
   "codemirror_mode": {
    "name": "ipython",
    "version": 3
   },
   "file_extension": ".py",
   "mimetype": "text/x-python",
   "name": "python",
   "nbconvert_exporter": "python",
   "pygments_lexer": "ipython3",
   "version": "3.9.13"
  }
 },
 "nbformat": 4,
 "nbformat_minor": 5
}
